{
  "nbformat": 4,
  "nbformat_minor": 0,
  "metadata": {
    "colab": {
      "provenance": []
    },
    "kernelspec": {
      "name": "python3",
      "display_name": "Python 3"
    },
    "language_info": {
      "name": "python"
    }
  },
  "cells": [
    {
      "cell_type": "code",
      "execution_count": 2,
      "metadata": {
        "colab": {
          "base_uri": "https://localhost:8080/"
        },
        "id": "6yE-lwLn06lK",
        "outputId": "8d315160-6ca4-46c8-d867-5a4d85319c5c"
      },
      "outputs": [
        {
          "output_type": "stream",
          "name": "stdout",
          "text": [
            "✅ Tagging audit complete: {'timestamp': '2025-10-26T09:51:24.440931+00:00', 'total_resources': 40, 'compliant': 7, 'non_compliant': 33, 'details': [{'resource_id': 'res-001', 'type': 'lambda_function', 'missing_tags': ['owner'], 'invalid_tags': [], 'tags': {'owner': None, 'environment': 'prod', 'cost_center': 'CC884'}}, {'resource_id': 'res-002', 'type': 'storage_bucket', 'missing_tags': ['environment'], 'invalid_tags': [], 'tags': {'owner': 'team2', 'environment': None, 'cost_center': 'CC903'}}, {'resource_id': 'res-003', 'type': 'vm_instance', 'missing_tags': ['owner'], 'invalid_tags': [], 'tags': {'owner': None, 'environment': 'prod', 'cost_center': 'CC225'}}, {'resource_id': 'res-005', 'type': 'database', 'missing_tags': ['owner', 'cost_center'], 'invalid_tags': [], 'tags': {'owner': None, 'environment': 'test', 'cost_center': None}}, {'resource_id': 'res-006', 'type': 'vm_instance', 'missing_tags': ['cost_center'], 'invalid_tags': [], 'tags': {'owner': 'team1', 'environment': 'prod', 'cost_center': None}}, {'resource_id': 'res-007', 'type': 'storage_bucket', 'missing_tags': ['owner', 'environment'], 'invalid_tags': [], 'tags': {'owner': None, 'environment': None, 'cost_center': 'CC150'}}, {'resource_id': 'res-008', 'type': 'storage_bucket', 'missing_tags': ['owner', 'cost_center'], 'invalid_tags': [], 'tags': {'owner': None, 'environment': 'test', 'cost_center': None}}, {'resource_id': 'res-009', 'type': 'lambda_function', 'missing_tags': ['owner'], 'invalid_tags': [], 'tags': {'owner': None, 'environment': 'dev', 'cost_center': 'CC949'}}, {'resource_id': 'res-010', 'type': 'lambda_function', 'missing_tags': ['cost_center'], 'invalid_tags': [], 'tags': {'owner': 'team2', 'environment': 'prod', 'cost_center': None}}, {'resource_id': 'res-011', 'type': 'database', 'missing_tags': ['owner', 'cost_center'], 'invalid_tags': [], 'tags': {'owner': None, 'environment': 'dev', 'cost_center': None}}, {'resource_id': 'res-012', 'type': 'database', 'missing_tags': ['owner', 'environment'], 'invalid_tags': [], 'tags': {'owner': None, 'environment': None, 'cost_center': 'CC641'}}, {'resource_id': 'res-013', 'type': 'database', 'missing_tags': ['cost_center'], 'invalid_tags': [], 'tags': {'owner': 'team4', 'environment': 'dev', 'cost_center': None}}, {'resource_id': 'res-014', 'type': 'storage_bucket', 'missing_tags': ['cost_center'], 'invalid_tags': [], 'tags': {'owner': 'team5', 'environment': 'dev', 'cost_center': None}}, {'resource_id': 'res-015', 'type': 'lambda_function', 'missing_tags': ['owner', 'environment', 'cost_center'], 'invalid_tags': [], 'tags': {'owner': None, 'environment': None, 'cost_center': None}}, {'resource_id': 'res-018', 'type': 'storage_bucket', 'missing_tags': ['cost_center'], 'invalid_tags': [], 'tags': {'owner': 'team3', 'environment': 'prod', 'cost_center': None}}, {'resource_id': 'res-019', 'type': 'storage_bucket', 'missing_tags': ['owner', 'cost_center'], 'invalid_tags': [], 'tags': {'owner': None, 'environment': 'test', 'cost_center': None}}, {'resource_id': 'res-020', 'type': 'vm_instance', 'missing_tags': ['environment'], 'invalid_tags': [], 'tags': {'owner': 'team3', 'environment': None, 'cost_center': 'CC558'}}, {'resource_id': 'res-021', 'type': 'lambda_function', 'missing_tags': ['owner', 'cost_center'], 'invalid_tags': [], 'tags': {'owner': None, 'environment': 'test', 'cost_center': None}}, {'resource_id': 'res-023', 'type': 'storage_bucket', 'missing_tags': ['cost_center'], 'invalid_tags': [], 'tags': {'owner': 'team2', 'environment': 'dev', 'cost_center': None}}, {'resource_id': 'res-024', 'type': 'lambda_function', 'missing_tags': ['owner'], 'invalid_tags': [], 'tags': {'owner': None, 'environment': 'prod', 'cost_center': 'CC476'}}, {'resource_id': 'res-025', 'type': 'lambda_function', 'missing_tags': ['owner', 'cost_center'], 'invalid_tags': [], 'tags': {'owner': None, 'environment': 'prod', 'cost_center': None}}, {'resource_id': 'res-026', 'type': 'storage_bucket', 'missing_tags': ['owner', 'cost_center'], 'invalid_tags': [], 'tags': {'owner': None, 'environment': 'dev', 'cost_center': None}}, {'resource_id': 'res-027', 'type': 'vm_instance', 'missing_tags': ['owner', 'environment'], 'invalid_tags': [], 'tags': {'owner': None, 'environment': None, 'cost_center': 'CC385'}}, {'resource_id': 'res-028', 'type': 'lambda_function', 'missing_tags': ['cost_center'], 'invalid_tags': [], 'tags': {'owner': 'team3', 'environment': 'test', 'cost_center': None}}, {'resource_id': 'res-031', 'type': 'database', 'missing_tags': ['cost_center'], 'invalid_tags': [], 'tags': {'owner': 'team2', 'environment': 'dev', 'cost_center': None}}, {'resource_id': 'res-032', 'type': 'storage_bucket', 'missing_tags': ['environment'], 'invalid_tags': [], 'tags': {'owner': 'team4', 'environment': None, 'cost_center': 'CC582'}}, {'resource_id': 'res-033', 'type': 'database', 'missing_tags': ['owner'], 'invalid_tags': [], 'tags': {'owner': None, 'environment': 'test', 'cost_center': 'CC538'}}, {'resource_id': 'res-034', 'type': 'vm_instance', 'missing_tags': ['environment', 'cost_center'], 'invalid_tags': [], 'tags': {'owner': 'team4', 'environment': None, 'cost_center': None}}, {'resource_id': 'res-035', 'type': 'vm_instance', 'missing_tags': ['environment'], 'invalid_tags': [], 'tags': {'owner': 'team2', 'environment': None, 'cost_center': 'CC444'}}, {'resource_id': 'res-036', 'type': 'storage_bucket', 'missing_tags': ['environment', 'cost_center'], 'invalid_tags': [], 'tags': {'owner': 'team5', 'environment': None, 'cost_center': None}}, {'resource_id': 'res-037', 'type': 'vm_instance', 'missing_tags': ['cost_center'], 'invalid_tags': [], 'tags': {'owner': 'team3', 'environment': 'dev', 'cost_center': None}}, {'resource_id': 'res-038', 'type': 'vm_instance', 'missing_tags': ['cost_center'], 'invalid_tags': [], 'tags': {'owner': 'team2', 'environment': 'dev', 'cost_center': None}}, {'resource_id': 'res-040', 'type': 'lambda_function', 'missing_tags': ['owner', 'environment', 'cost_center'], 'invalid_tags': [], 'tags': {'owner': None, 'environment': None, 'cost_center': None}}]}\n"
          ]
        }
      ],
      "source": [
        "# ============================================================\n",
        "# AutoTag-Engine — Automated Cloud Resource Tagging & Enforcement (Colab ready)\n",
        "# ============================================================\n",
        "\n",
        "import os\n",
        "import json\n",
        "import random\n",
        "from datetime import datetime, timezone\n",
        "\n",
        "# Configuration\n",
        "RESOURCES_FILE = \"data/resources.json\"\n",
        "TAG_REPORT_FILE = \"data/tagging_report.json\"\n",
        "\n",
        "# Define required tag schema\n",
        "REQUIRED_TAGS = {\n",
        "    \"owner\": None,       # e.g., team or person\n",
        "    \"environment\": [\"dev\", \"test\", \"prod\"],\n",
        "    \"cost_center\": None  # business cost center\n",
        "}\n",
        "\n",
        "# Ensure directories\n",
        "os.makedirs(os.path.dirname(RESOURCES_FILE), exist_ok=True)\n",
        "os.makedirs(os.path.dirname(TAG_REPORT_FILE), exist_ok=True)\n",
        "\n",
        "# Generate dummy resource inventory if not exists\n",
        "if not os.path.exists(RESOURCES_FILE):\n",
        "    resources = []\n",
        "    now = datetime.now(timezone.utc)\n",
        "    for i in range(1, 41):\n",
        "        resources.append({\n",
        "            \"resource_id\": f\"res-{i:03}\",\n",
        "            \"type\": random.choice([\"vm_instance\", \"storage_bucket\", \"database\", \"lambda_function\"]),\n",
        "            \"tags\": {\n",
        "                # randomly include some or omit\n",
        "                \"owner\": random.choice([f\"team{random.randint(1,5)}\", None]),\n",
        "                \"environment\": random.choice([\"dev\", \"test\", \"prod\", None]),\n",
        "                \"cost_center\": random.choice([f\"CC{random.randint(100,999)}\", None])\n",
        "            },\n",
        "            \"created_at\": now.isoformat()\n",
        "        })\n",
        "    with open(RESOURCES_FILE, \"w\", encoding=\"utf-8\") as f:\n",
        "        json.dump(resources, f, indent=2)\n",
        "\n",
        "def load_resources(path):\n",
        "    with open(path, \"r\", encoding=\"utf-8\") as f:\n",
        "        return json.load(f)\n",
        "\n",
        "def check_tags(resource, required_tags):\n",
        "    missing = []\n",
        "    invalid = []\n",
        "    for tag_key, allowed in required_tags.items():\n",
        "        value = resource.get(\"tags\", {}).get(tag_key)\n",
        "        if value is None:\n",
        "            missing.append(tag_key)\n",
        "        else:\n",
        "            if isinstance(allowed, list):\n",
        "                if value not in allowed:\n",
        "                    invalid.append(f\"{tag_key}={value}\")\n",
        "    return missing, invalid\n",
        "\n",
        "def run_tag_audit(input_path, output_path, required_tags):\n",
        "    resources = load_resources(input_path)\n",
        "    report = {\n",
        "        \"timestamp\": datetime.now(timezone.utc).isoformat(),\n",
        "        \"total_resources\": len(resources),\n",
        "        \"compliant\": 0,\n",
        "        \"non_compliant\": 0,\n",
        "        \"details\": []\n",
        "    }\n",
        "    for res in resources:\n",
        "        missing, invalid = check_tags(res, required_tags)\n",
        "        if not missing and not invalid:\n",
        "            report[\"compliant\"] += 1\n",
        "        else:\n",
        "            report[\"non_compliant\"] += 1\n",
        "            report[\"details\"].append({\n",
        "                \"resource_id\": res[\"resource_id\"],\n",
        "                \"type\": res[\"type\"],\n",
        "                \"missing_tags\": missing,\n",
        "                \"invalid_tags\": invalid,\n",
        "                \"tags\": res.get(\"tags\", {})\n",
        "            })\n",
        "    with open(output_path, \"w\", encoding=\"utf-8\") as f:\n",
        "        json.dump(report, f, indent=2)\n",
        "    return report\n",
        "\n",
        "if __name__ == \"__main__\":\n",
        "    tag_report = run_tag_audit(RESOURCES_FILE, TAG_REPORT_FILE, REQUIRED_TAGS)\n",
        "    print(\"✅ Tagging audit complete:\", tag_report)\n"
      ]
    }
  ]
}